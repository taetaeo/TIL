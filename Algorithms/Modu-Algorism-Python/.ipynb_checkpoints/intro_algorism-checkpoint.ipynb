{
 "cells": [
  {
   "cell_type": "markdown",
   "metadata": {},
   "source": [
    "# intro \n",
    "### 알고리즘\n",
    "\n",
    "알고리즘이란 `어떤 문제를 풀기 위한 절차나 방법`이다.\n",
    "<br>\n",
    "구체적으로는 어떤 문제가 있을 때 주어진 `입력` 정보를 원하는 `출력(답)`정보로 만드는 일련의 과정을 구체적이고 명료하게 적은 것\n",
    "\n",
    "- 알고리즘은 어떤 문제를 풀기 위한 절차나 방법\n",
    "- 알고리즘은 주어진 `입력`을 `출력`으로 만드는 과정\n",
    "- 알고리즘은 각 단계는 구체적이고 명료해야 한다.\n"
   ]
  },
  {
   "attachments": {
    "image.png": {
     "image/png": "[encoded data removed]"
    }
   },
   "cell_type": "markdown",
   "metadata": {},
   "source": [
    "### 절댓값 구하기 알고리즘\n",
    "\n",
    "1) a의 절댓값 구하기 알고리즘 1 : 부호판단<br>\n",
    "- a가 0 보다 크거나 같은지 확인한다. 만약 그렇다면 `a`를 결과로 돌려준다\n",
    "- 위의 경우가 아니라면(a가 0보다 작다면) `-a`를 결과로 돌려준다\n",
    "\n",
    "![image.png](attachment:image.png)\n",
    "\n",
    "2) a의 절댓값 구하기 알고리즘 2 : 제곱 후 제곱근\n",
    "- a를 제곱하여 변수 b에 저장한다.\n",
    "- b의 제곱근을 구해 결과로 돌려준다."
   ]
  },
  {
   "cell_type": "code",
   "execution_count": null,
   "metadata": {},
   "outputs": [],
   "source": []
  },
  {
   "cell_type": "code",
   "execution_count": 3,
   "metadata": {},
   "outputs": [],
   "source": [
    "import math  # 수학 모듈 사용\n",
    "\n",
    "# 절댓값 알고리즘 1(부호 판단)\n",
    "\n",
    "# 입력 : 실수 a\n",
    "\n",
    "# 출력 : a의 절댓값\n",
    "\n",
    "\n",
    "def abs_sign(a):\n",
    "    if a>=0:\n",
    "        return a\n",
    "    else :\n",
    "        return -a\n",
    "    \n",
    "    \n",
    "# 절댓값 알고리즘 2 (제곱 - 제곱근)\n",
    "\n",
    "# 입력 : 실수 a\n",
    "\n",
    "# 출력 : a의 절댓값\n",
    "\n",
    "\n",
    "def abs_squre(a):\n",
    "    b = a * a\n",
    "    return math.sqrt(b) # 수학 모듈의 제곱근 함수"
   ]
  },
  {
   "cell_type": "code",
   "execution_count": 4,
   "metadata": {},
   "outputs": [
    {
     "name": "stdout",
     "output_type": "stream",
     "text": [
      "----------문제 1번---------\n",
      "5\n",
      "3\n",
      "\n",
      "\n",
      "----------문제 2번---------\n",
      "5.0\n",
      "3.0\n"
     ]
    }
   ],
   "source": [
    "print(\"----------문제 1번---------\")\n",
    "print(abs_sign(5))\n",
    "print(abs_sign(-3))\n",
    "print(\"\\n\")\n",
    "print(\"----------문제 2번---------\")\n",
    "print(abs_squre(5))\n",
    "print(abs_squre(-3))\n"
   ]
  },
  {
   "cell_type": "code",
   "execution_count": 5,
   "metadata": {},
   "outputs": [
    {
     "name": "stdout",
     "output_type": "stream",
     "text": [
      "55\n"
     ]
    }
   ],
   "source": [
    "import math\n",
    "\n",
    "def sum_n(n):\n",
    "    return (n*(n+1)) // 2\n",
    "\n",
    "print(sum_n(10))"
   ]
  },
  {
   "cell_type": "code",
   "execution_count": null,
   "metadata": {},
   "outputs": [],
   "source": []
  }
 ],
 "metadata": {
  "kernelspec": {
   "display_name": "Python 3",
   "language": "python",
   "name": "python3"
  },
  "language_info": {
   "codemirror_mode": {
    "name": "ipython",
    "version": 3
   },
   "file_extension": ".py",
   "mimetype": "text/x-python",
   "name": "python",
   "nbconvert_exporter": "python",
   "pygments_lexer": "ipython3",
   "version": "3.8.3"
  }
 },
 "nbformat": 4,
 "nbformat_minor": 4
}

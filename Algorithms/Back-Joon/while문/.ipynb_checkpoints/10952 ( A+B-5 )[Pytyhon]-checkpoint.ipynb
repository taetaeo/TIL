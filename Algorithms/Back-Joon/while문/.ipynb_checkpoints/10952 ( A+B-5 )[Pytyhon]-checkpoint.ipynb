{
 "cells": [
  {
   "cell_type": "markdown",
   "metadata": {},
   "source": [
    "# A + B - 5\n",
    "<br>\n",
    "<br>\n",
    "\n",
    "### 문제\n",
    "---\n",
    "두 정수 `A` 와 `B` 를 입력 받은 다음, `A + B` 를 출력하는 프로그램을 작성하시오.\n",
    "\n",
    "<br>\n",
    "\n",
    "### 입력\n",
    "---\n",
    "\n",
    "- 입력은 여러 개의 테스트 케이스로 이루어져 있다.\n",
    "\n",
    "- 각 테스트 케이스는 한 줄로 이루어져 있으며, 각 줄에 A와 B가 주어진다. (0 < A, B < 10)\n",
    "\n",
    "- 입력의 마지막에는 0 두 개가 들어온다.\n",
    "\n",
    "<br>\n",
    "\n",
    "### 출력\n",
    "---\n",
    "각 테스트 케이스마다 `A + B`를 출력한다.\n",
    "\n",
    "![](https://github.com/ohtaekwon/TIL-Algorithms/blob/master/Back-Joon/while%EB%AC%B8/img/10952-1.png?raw=true)\n",
    "\n"
   ]
  },
  {
   "cell_type": "markdown",
   "metadata": {},
   "source": [
    "📌 ***나의 정답***"
   ]
  },
  {
   "cell_type": "code",
   "execution_count": 4,
   "metadata": {},
   "outputs": [
    {
     "name": "stdout",
     "output_type": "stream",
     "text": [
      "1 1\n",
      "2\n",
      "2 3\n",
      "5\n",
      "3 4\n",
      "7\n",
      "9 8\n",
      "17\n",
      "5 2\n",
      "7\n",
      "0 0\n"
     ]
    }
   ],
   "source": [
    "while(True):\n",
    "    A, B = map(int, input().split())\n",
    "    0<A and 10>B\n",
    "    \n",
    "    if A==0 and B==0:\n",
    "        break\n",
    "    else:\n",
    "        print(A+B)"
   ]
  },
  {
   "cell_type": "markdown",
   "metadata": {},
   "source": [
    "📌 ***풀이 해석***"
   ]
  },
  {
   "cell_type": "code",
   "execution_count": null,
   "metadata": {},
   "outputs": [],
   "source": [
    "while(True):\n",
    "    A, B = map(int, input().split())\n",
    "    0<A and 10>B"
   ]
  },
  {
   "cell_type": "markdown",
   "metadata": {},
   "source": [
    "**입력이 0 0 이 나올 때 까지 반복** 해야 하므로 **while 반복문** 을 사용한다.\n",
    "<br>\n",
    "\n",
    "이때 while 종료조건이 나올때 까지 반복하기 위해서 항상 **참** 을 의미하는 **True** 를 사용해 **무한반복** 한다.\n",
    "<br>\n",
    "\n",
    "이 후 `A`, `B` 의 입력값을 받는다. \n",
    "\n",
    "- `A, B = map(int, input().split())`\n",
    "\n",
    "이때 빈칸을 기준으로 **정수형** 자료로 받는다. \n",
    "- `int()`\n",
    "\n",
    "그리고 각 입력값이 조건에 맞게 범위 설정\n",
    "- `0<A and 10>B`"
   ]
  },
  {
   "cell_type": "code",
   "execution_count": null,
   "metadata": {},
   "outputs": [],
   "source": [
    "    if A==0 and B==0:\n",
    "        break\n",
    "    else:\n",
    "        print(A+B)"
   ]
  },
  {
   "cell_type": "markdown",
   "metadata": {},
   "source": [
    "각 입력값 `A`, `B` 에 `0`이 들어가면 그때 **while** 문을 빠져나가서 종료한다.\n",
    "<br>\n",
    "\n",
    "0아 아닐경우 (`else`), `A + B`의 합을 `print` 한다."
   ]
  },
  {
   "cell_type": "code",
   "execution_count": null,
   "metadata": {},
   "outputs": [],
   "source": []
  }
 ],
 "metadata": {
  "kernelspec": {
   "display_name": "Python 3",
   "language": "python",
   "name": "python3"
  },
  "language_info": {
   "codemirror_mode": {
    "name": "ipython",
    "version": 3
   },
   "file_extension": ".py",
   "mimetype": "text/x-python",
   "name": "python",
   "nbconvert_exporter": "python",
   "pygments_lexer": "ipython3",
   "version": "3.8.3"
  }
 },
 "nbformat": 4,
 "nbformat_minor": 4
}

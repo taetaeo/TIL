{
 "cells": [
  {
   "cell_type": "markdown",
   "metadata": {},
   "source": [
    "# 최소, 최대\n",
    "<br>\n",
    "<br>\n",
    "\n",
    "### 문제\n",
    "---\n",
    "`N`개의 정수가 주어진다. 이때, 최솟값과 최댓값을 구하는 프로그램을 작성하시오\n",
    "\n",
    "<br>\n",
    "\n",
    "### 입력\n",
    "---\n",
    "\n",
    "- 첫째 줄에 정수의 개수 N (1 ≤ N ≤ 1,000,000)이 주어진다.\n",
    "- 둘째 줄에는 N개의 정수를 공백으로 구분해서 주어진다.\n",
    "- 모든 정수는 -1,000,000보다 크거나 같고, 1,000,000보다 작거나 같은 정수이다.\n",
    "\n",
    "<br>\n",
    "\n",
    "### 출력\n",
    "---\n",
    "첫째 줄에 주어진 정수 N개의 최솟값과 최댓값을 공백으로 구분해 출력한다.\n",
    "\n",
    "![](https://github.com/ohtaekwon/TIL-Algorithms/blob/master/Back-Joon/5.%201%EC%B0%A8%EC%9B%90%20%EB%B0%B0%EC%97%B4/img/10818-1.png?raw=true)\n",
    "\n"
   ]
  },
  {
   "cell_type": "markdown",
   "metadata": {},
   "source": [
    "📌 ***나의 정답***"
   ]
  },
  {
   "cell_type": "code",
   "execution_count": 5,
   "metadata": {},
   "outputs": [
    {
     "name": "stdout",
     "output_type": "stream",
     "text": [
      "5\n",
      "20 10 35 30 7\n",
      "7 35\n"
     ]
    }
   ],
   "source": [
    "count = int(input())\n",
    "num = list(map(int, input().split()))\n",
    "max = num[0]\n",
    "min = num[0]\n",
    "\n",
    "for i in num[1:]:\n",
    "    if i > max:\n",
    "        max = i\n",
    "    elif i < min:\n",
    "        min = i\n",
    "        \n",
    "print(min, max)"
   ]
  },
  {
   "cell_type": "markdown",
   "metadata": {},
   "source": [
    "📌 ***풀이 해석***"
   ]
  },
  {
   "cell_type": "markdown",
   "metadata": {},
   "source": [
    "어떤 코드가 동작하는 과정에서, **오류가 발생할 수도 있고 발생하지 않을 수도 있다.** \n",
    "<br>\n",
    "\n",
    "이때 오류를 컨트롤하기 위해 사용하는 것이 `try-except-else-finally` 구문이다.\n",
    "<br>\n",
    "\n",
    "파이썬 정보를 입력받을때 어디가 끝인지를 확인하는 기능이 자체적으로 없기때문에, 만약에 **예외처리** 를 하지 않는다면 이 문제에서는 계속적인 인풋을 받는다.\n",
    "<br>\n",
    "\n",
    "몇개의 테스트 케이스가 주어졌는지 **알 수 없는 경우** 입력을 **파일 끝(End of File, EOF)** 까지 받으면 된다.\n",
    "<br>\n",
    "\n",
    "그래서 **예의 처리** 를 사용해서 문제를 접근해야 한다."
   ]
  },
  {
   "cell_type": "code",
   "execution_count": 3,
   "metadata": {},
   "outputs": [
    {
     "ename": "SyntaxError",
     "evalue": "unexpected EOF while parsing (<ipython-input-3-f4a4926a6d64>, line 5)",
     "output_type": "error",
     "traceback": [
      "\u001b[1;36m  File \u001b[1;32m\"<ipython-input-3-f4a4926a6d64>\"\u001b[1;36m, line \u001b[1;32m5\u001b[0m\n\u001b[1;33m    print(A+B)\u001b[0m\n\u001b[1;37m              ^\u001b[0m\n\u001b[1;31mSyntaxError\u001b[0m\u001b[1;31m:\u001b[0m unexpected EOF while parsing\n"
     ]
    }
   ],
   "source": [
    "while(True):\n",
    "    try:\n",
    "        A, B = map(int, input().split())\n",
    "        0 < A and B < 10\n",
    "        print(A+B)"
   ]
  },
  {
   "cell_type": "markdown",
   "metadata": {},
   "source": [
    "**try 부분에는 실행할 부분의 코드** 를 입력한다.\n",
    "<br>\n",
    "\n",
    "입력값 `A`, `B` 를 빈칸을 기준으로 받고 각각 조건에 맞게 범위를 설정해 준다."
   ]
  },
  {
   "cell_type": "code",
   "execution_count": null,
   "metadata": {},
   "outputs": [],
   "source": [
    "    except:\n",
    "        break"
   ]
  },
  {
   "cell_type": "markdown",
   "metadata": {},
   "source": [
    "**except 부분에는 예외가 일어났을 때 처리하는 코드** 를 입력한다.\n",
    "<br>\n",
    "\n",
    "이 경우 입력값이 없을 경우 `while` 반복문을 빠져나온다."
   ]
  },
  {
   "cell_type": "markdown",
   "metadata": {},
   "source": [
    "📌 ***다른 풀이***"
   ]
  },
  {
   "cell_type": "code",
   "execution_count": null,
   "metadata": {},
   "outputs": [],
   "source": [
    "import sys\n",
    "\n",
    "for line in sys.stdin:\n",
    "\n",
    "    a,b = map(int, line.split())\n",
    "\n",
    "    print(a+b)"
   ]
  },
  {
   "cell_type": "markdown",
   "metadata": {},
   "source": [
    "`sys` 모듈을 `import` 해서 문제를 해결했다.\n",
    "<br>\n",
    "\n",
    "왜냐하면 `sys,stdin` 은 **^Z 를 입력받으면 종료** 해주기 떄문에 위 처럼 사용"
   ]
  },
  {
   "cell_type": "code",
   "execution_count": null,
   "metadata": {},
   "outputs": [],
   "source": []
  }
 ],
 "metadata": {
  "kernelspec": {
   "display_name": "Python 3",
   "language": "python",
   "name": "python3"
  },
  "language_info": {
   "codemirror_mode": {
    "name": "ipython",
    "version": 3
   },
   "file_extension": ".py",
   "mimetype": "text/x-python",
   "name": "python",
   "nbconvert_exporter": "python",
   "pygments_lexer": "ipython3",
   "version": "3.8.3"
  }
 },
 "nbformat": 4,
 "nbformat_minor": 4
}

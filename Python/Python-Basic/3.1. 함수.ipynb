{
 "cells": [
  {
   "cell_type": "markdown",
   "metadata": {},
   "source": [
    "## 3.1 함수\n",
    "---\n",
    "\n",
    "지금까지는 코드를 한 줄, 한 줄 입력해서 결과를 보긴 했지만, 컴퓨터에게 일을 시키는 건지, 우리가 일을 하는 건지 헷갈릴 정도로 귀찮으셨을 거예요. 오늘 배우실 함수를 아시고 나면 프로그래밍이 좀 더 즐거워지지 않을까 싶네요. 그럼 시작해볼까요?\n",
    "\n",
    "[1, 2, 3, 4, 5]라는 리스트가 있다고 해볼게요. 이 리스트에는 원소가 몇 개 있을까요?\n",
    "\n",
    "예, 5개입니다.\n",
    "\n",
    "이번엔 [3, 4, 62, 27, 83, 956, 26, 58, 3, 78, 168, 64, 78]이라는 리스트가 있다고 칩시다. 에구구… 원소가 넘 많으니까 a_list라는 이름을 붙여놓도록 하죠.\n"
   ]
  },
  {
   "cell_type": "code",
   "execution_count": 3,
   "metadata": {},
   "outputs": [
    {
     "data": {
      "text/plain": [
       "[3, 4, 62, 27, 83, 956, 26, 58, 3, 78, 168, 64, 78]"
      ]
     },
     "execution_count": 3,
     "metadata": {},
     "output_type": "execute_result"
    }
   ],
   "source": [
    "a_list = [3, 4, 62, 27, 83, 956, 26, 58, 3, 78, 168, 64, 78]\n",
    "a_list"
   ]
  },
  {
   "cell_type": "markdown",
   "metadata": {},
   "source": [
    "`len()` 은 리스트에 들어있는 원소 개수, 즉, 리스트의 크기를 알려준다. \n",
    "\n",
    "- len()이 바로 **함수** 이다."
   ]
  },
  {
   "cell_type": "markdown",
   "metadata": {},
   "source": [
    "##### len() 함수를 쓰면 아무 리스트나 쉽게 크기를 알 수 있다."
   ]
  },
  {
   "cell_type": "code",
   "execution_count": 4,
   "metadata": {},
   "outputs": [
    {
     "data": {
      "text/plain": [
       "5"
      ]
     },
     "execution_count": 4,
     "metadata": {},
     "output_type": "execute_result"
    }
   ],
   "source": [
    "len([1,2,3,4,5])"
   ]
  },
  {
   "cell_type": "code",
   "execution_count": 5,
   "metadata": {},
   "outputs": [
    {
     "data": {
      "text/plain": [
       "13"
      ]
     },
     "execution_count": 5,
     "metadata": {},
     "output_type": "execute_result"
    }
   ],
   "source": [
    "len(a_list)"
   ]
  },
  {
   "cell_type": "markdown",
   "metadata": {},
   "source": [
    "만약 `len()` 함수가 없었다면, 리스트의 크기를 알고 싶을 때마다 복잡한 프로그램을 작성해야했다. \n",
    "\n",
    "함수가 있기 때문에 프로그래밍을 좀 더 쉽게 할 수 있다.\n",
    "\n",
    "함수는 `len()` 처럼 처음부터 파이썬에서 제공해주는 것도 있고, 필요한 것을 직접 만들어 쓸 수도 있다. "
   ]
  },
  {
   "cell_type": "code",
   "execution_count": 15,
   "metadata": {},
   "outputs": [
    {
     "name": "stdout",
     "output_type": "stream",
     "text": [
      "1\n",
      "2\n"
     ]
    }
   ],
   "source": [
    "a = [1,2,3,4,5,5,6,6,7,7,8,9]\n",
    "\n",
    "def print_list(a):  # 지금부터 print_list 함수를 만들겠다는 뜻\n",
    "    for i in a:\n",
    "        print(i)\n",
    "        \n",
    "        \n",
    "print_list([1,2])"
   ]
  },
  {
   "cell_type": "markdown",
   "metadata": {},
   "source": [
    "`print_list()`라는 함수를 만들었다.\n",
    "\n",
    "첫째 줄은 함수의 이름을 지어주는 부분이다. 괄호안의 `a`는 **매개변수** 라고 한다.\n",
    "- 함수를 사용할 때는 `print_list([1,2])`와 같은 형태로 쓰면 된다는 것을 나타낸다.\n",
    "\n",
    "이때 `[1,2]`라는 리스트를 함수에 넣어주면 함수 내부에서는 `a=[1,2]`생가갛고 일을 하게 된다.\n",
    "\n",
    "둘때 줄부터는 `a`라는 리스트의 원소를 차례대로 출력하는 출력하는 명령이다.\n"
   ]
  },
  {
   "cell_type": "code",
   "execution_count": 14,
   "metadata": {},
   "outputs": [
    {
     "name": "stdout",
     "output_type": "stream",
     "text": [
      "3\n",
      "4\n",
      "62\n",
      "27\n",
      "83\n",
      "956\n",
      "26\n",
      "58\n",
      "3\n",
      "78\n",
      "168\n",
      "64\n",
      "78\n"
     ]
    }
   ],
   "source": [
    "print_list(a_list)"
   ]
  },
  {
   "cell_type": "markdown",
   "metadata": {},
   "source": [
    "##### 매개변수가 없는 함수"
   ]
  },
  {
   "cell_type": "code",
   "execution_count": 17,
   "metadata": {},
   "outputs": [
    {
     "name": "stdout",
     "output_type": "stream",
     "text": [
      "I am a boy.\n",
      "You are a girl.\n"
     ]
    }
   ],
   "source": [
    "def boy():\n",
    "    print('I am a boy.')\n",
    "    print('You are a girl.')\n",
    "\n",
    "boy()"
   ]
  },
  {
   "cell_type": "markdown",
   "metadata": {},
   "source": [
    "### 3.1.1. 연습 문제 : 구구단\n",
    "\n",
    "\n",
    "#### 1) 문제\n",
    "---\n",
    "\n",
    "다음 예와 같이 구구단을 2단부터 9단까지 계산해서 출력하는 프로그램을 짜보세요. 지금까지 배운 내용만 제대로 이해하시면 충분히 하실 수 있답니다.\n",
    "\n",
    "\n",
    "#### 예\n",
    "---\n",
    "\n",
    "출력 : \n",
    "\n",
    "```\n",
    "2 * 1 = 2\n",
    "2 * 2 = 4\n",
    "....\n",
    "9 * 9 = 81\n",
    "```\n",
    "\n",
    "#### 2) 풀이\n",
    "\n",
    "\n",
    "#### 2 곱하기 1을 출력\n",
    "\n",
    "우선 2곱하기 1부터 출력해보자. 단수를 변수 `m`으로 곱하는 수를 `n` 으로 하자"
   ]
  },
  {
   "cell_type": "code",
   "execution_count": 18,
   "metadata": {},
   "outputs": [
    {
     "name": "stdout",
     "output_type": "stream",
     "text": [
      "2 *  1 = 2\n"
     ]
    }
   ],
   "source": [
    "m = 2\n",
    "n = 1\n",
    "\n",
    "print(m, \"* \", n, '=', m*n)"
   ]
  },
  {
   "cell_type": "markdown",
   "metadata": {},
   "source": [
    "`print()` 함수에는 변수 `m` , 문자열 `'*'`, 변수 `n`, 문자열 `'='`, 그 다음에 `m*n` 이라는 식을 쉼표로 구분해 차례로 넣어준다.\n",
    "\n",
    "\n",
    "`print()` 함수의 인자가 너무 많아 타자 치기도 번거롭고 눈에 잘 들어오지 않으므로 다음과 같이 f-문자열을 사용하는 것이 낫겠네요. f-문자열은 파이썬 3.6 이상에서 사용할 수 있습니다."
   ]
  },
  {
   "cell_type": "code",
   "execution_count": 20,
   "metadata": {},
   "outputs": [
    {
     "name": "stdout",
     "output_type": "stream",
     "text": [
      "2 * 1 = 2\n"
     ]
    }
   ],
   "source": [
    "print(f'{m} * {n} = {m*n}')"
   ]
  },
  {
   "cell_type": "markdown",
   "metadata": {},
   "source": [
    "#### 2 단을 출력"
   ]
  },
  {
   "cell_type": "code",
   "execution_count": 25,
   "metadata": {},
   "outputs": [
    {
     "name": "stdout",
     "output_type": "stream",
     "text": [
      "2 * 1 =  2\n",
      "2 * 2 =  4\n",
      "2 * 3 =  6\n",
      "2 * 4 =  8\n",
      "2 * 5 = 10\n",
      "2 * 6 = 12\n",
      "2 * 7 = 14\n",
      "2 * 8 = 16\n",
      "2 * 9 = 18\n"
     ]
    }
   ],
   "source": [
    "m = 2\n",
    "\n",
    "for n in range(1,10):\n",
    "    print(f'{m} * {n} = {m*n:2d}')"
   ]
  },
  {
   "cell_type": "markdown",
   "metadata": {},
   "source": [
    "변수 `m` 값은 아까처럼 숫자 `2`로 했지만, 변수 `n`은 `for` 문과 `range()` 함수를 이용해 **값을 증가** 시켜가면서 2단을 출력하게 했습니다. \n",
    "\n",
    "`print` 문에서는 `m`과 `n`을 곱한 결과의 자리수를 맞추려고 **f-문자열** 의 세 번째 중괄호에 `2d`를 지정했습니다."
   ]
  },
  {
   "cell_type": "markdown",
   "metadata": {},
   "source": [
    "#### 한 단을 계산하는 함수"
   ]
  },
  {
   "cell_type": "markdown",
   "metadata": {},
   "source": [
    "이번엔 한 단을 계산하는 함수를 만들어 보려고 한다. 함수의 인자로 `2`를 넣으면 2단을 출력하고, `5`를 넣으면 5단을 출력한다."
   ]
  },
  {
   "cell_type": "code",
   "execution_count": 26,
   "metadata": {},
   "outputs": [],
   "source": [
    "def multi(m):\n",
    "    for n in range(1, 10):\n",
    "        print(f'{m} * {n} = {m*n:2d}')"
   ]
  },
  {
   "cell_type": "code",
   "execution_count": 27,
   "metadata": {},
   "outputs": [
    {
     "name": "stdout",
     "output_type": "stream",
     "text": [
      "3 * 1 =  3\n",
      "3 * 2 =  6\n",
      "3 * 3 =  9\n",
      "3 * 4 = 12\n",
      "3 * 5 = 15\n",
      "3 * 6 = 18\n",
      "3 * 7 = 21\n",
      "3 * 8 = 24\n",
      "3 * 9 = 27\n"
     ]
    }
   ],
   "source": [
    "multi(3)"
   ]
  },
  {
   "cell_type": "markdown",
   "metadata": {},
   "source": [
    "### 구구단 전체"
   ]
  },
  {
   "cell_type": "markdown",
   "metadata": {},
   "source": [
    "#### 1) 구구단 2단"
   ]
  },
  {
   "cell_type": "code",
   "execution_count": 33,
   "metadata": {},
   "outputs": [
    {
     "name": "stdout",
     "output_type": "stream",
     "text": [
      ":: 2단 ::\n",
      "2 x 1 = 2\n",
      "2 x 2 = 4\n",
      "2 x 3 = 6\n",
      "2 x 4 = 8\n",
      "2 x 5 = 10\n",
      "2 x 6 = 12\n",
      "2 x 7 = 14\n",
      "2 x 8 = 16\n",
      "2 x 9 = 18\n"
     ]
    }
   ],
   "source": [
    "print(':: 2단 ::')\n",
    "for i in range(1, 10):  # 1부터 9까지\n",
    "    print(f'2 x {i} = {2*i}')"
   ]
  },
  {
   "cell_type": "markdown",
   "metadata": {},
   "source": [
    "#### 2) 구구단 2단부터 9단까지"
   ]
  },
  {
   "cell_type": "code",
   "execution_count": 42,
   "metadata": {},
   "outputs": [
    {
     "name": "stdout",
     "output_type": "stream",
     "text": [
      "1 x 1 =  1\n",
      "1 x 2 =  2\n",
      "1 x 3 =  3\n",
      "1 x 4 =  4\n",
      "1 x 5 =  5\n",
      "1 x 6 =  6\n",
      "1 x 7 =  7\n",
      "1 x 8 =  8\n",
      "1 x 9 =  9\n",
      "------1단------\n",
      "2 x 1 =  2\n",
      "2 x 2 =  4\n",
      "2 x 3 =  6\n",
      "2 x 4 =  8\n",
      "2 x 5 =  10\n",
      "2 x 6 =  12\n",
      "2 x 7 =  14\n",
      "2 x 8 =  16\n",
      "2 x 9 =  18\n",
      "------2단------\n",
      "3 x 1 =  3\n",
      "3 x 2 =  6\n",
      "3 x 3 =  9\n",
      "3 x 4 =  12\n",
      "3 x 5 =  15\n",
      "3 x 6 =  18\n",
      "3 x 7 =  21\n",
      "3 x 8 =  24\n",
      "3 x 9 =  27\n",
      "------3단------\n",
      "4 x 1 =  4\n",
      "4 x 2 =  8\n",
      "4 x 3 =  12\n",
      "4 x 4 =  16\n",
      "4 x 5 =  20\n",
      "4 x 6 =  24\n",
      "4 x 7 =  28\n",
      "4 x 8 =  32\n",
      "4 x 9 =  36\n",
      "------4단------\n",
      "5 x 1 =  5\n",
      "5 x 2 =  10\n",
      "5 x 3 =  15\n",
      "5 x 4 =  20\n",
      "5 x 5 =  25\n",
      "5 x 6 =  30\n",
      "5 x 7 =  35\n",
      "5 x 8 =  40\n",
      "5 x 9 =  45\n",
      "------5단------\n",
      "6 x 1 =  6\n",
      "6 x 2 =  12\n",
      "6 x 3 =  18\n",
      "6 x 4 =  24\n",
      "6 x 5 =  30\n",
      "6 x 6 =  36\n",
      "6 x 7 =  42\n",
      "6 x 8 =  48\n",
      "6 x 9 =  54\n",
      "------6단------\n",
      "7 x 1 =  7\n",
      "7 x 2 =  14\n",
      "7 x 3 =  21\n",
      "7 x 4 =  28\n",
      "7 x 5 =  35\n",
      "7 x 6 =  42\n",
      "7 x 7 =  49\n",
      "7 x 8 =  56\n",
      "7 x 9 =  63\n",
      "------7단------\n",
      "8 x 1 =  8\n",
      "8 x 2 =  16\n",
      "8 x 3 =  24\n",
      "8 x 4 =  32\n",
      "8 x 5 =  40\n",
      "8 x 6 =  48\n",
      "8 x 7 =  56\n",
      "8 x 8 =  64\n",
      "8 x 9 =  72\n",
      "------8단------\n",
      "9 x 1 =  9\n",
      "9 x 2 =  18\n",
      "9 x 3 =  27\n",
      "9 x 4 =  36\n",
      "9 x 5 =  45\n",
      "9 x 6 =  54\n",
      "9 x 7 =  63\n",
      "9 x 8 =  72\n",
      "9 x 9 =  81\n",
      "------9단------\n"
     ]
    }
   ],
   "source": [
    "for dan in range(1, 10):  # 2 ~ 9\n",
    "    for i in range(1, 10):  # 1 ~ 9\n",
    "        print(f'{dan} x {i} = {dan * i : 2d}')\n",
    "        \n",
    "    print(f'------{dan}단------')"
   ]
  }
 ],
 "metadata": {
  "kernelspec": {
   "display_name": "Python 3",
   "language": "python",
   "name": "python3"
  },
  "language_info": {
   "codemirror_mode": {
    "name": "ipython",
    "version": 3
   },
   "file_extension": ".py",
   "mimetype": "text/x-python",
   "name": "python",
   "nbconvert_exporter": "python",
   "pygments_lexer": "ipython3",
   "version": "3.8.3"
  }
 },
 "nbformat": 4,
 "nbformat_minor": 4
}

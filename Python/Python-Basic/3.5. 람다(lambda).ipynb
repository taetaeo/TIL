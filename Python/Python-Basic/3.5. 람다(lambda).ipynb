{
 "cells": [
  {
   "cell_type": "markdown",
   "metadata": {},
   "source": [
    "## 3.5 람다(lambda)\n",
    "---\n",
    "- 람다 형식은 인공지능 분야나 AutoCAD라는 설계 프로그램에서 쓰이는 Lisp 언어에서 물려받았다. \n",
    "\n",
    "- 람다는 **함수** 를 딱 **한 줄** 만으로 만들게 해준다.\n",
    "\n",
    "### 3.5.1. 표현식\n",
    "```python\n",
    " lambda 인자 : 표현식\n",
    "    \n",
    "```\n",
    "\n",
    "##### EX) 두 수를 더하는 함수\n",
    "```python\n",
    "  def hap(x,y):\n",
    "        return x+y\n",
    "  \n",
    "  hap(10,20) # 30\n",
    "```"
   ]
  },
  {
   "cell_type": "markdown",
   "metadata": {},
   "source": [
    "##### 이것을 람다(lambda)로 표현한다면\n"
   ]
  },
  {
   "cell_type": "code",
   "execution_count": 3,
   "metadata": {},
   "outputs": [
    {
     "data": {
      "text/plain": [
       "30"
      ]
     },
     "execution_count": 3,
     "metadata": {},
     "output_type": "execute_result"
    }
   ],
   "source": [
    "(lambda x,y : x+y)(10,20)"
   ]
  },
  {
   "cell_type": "markdown",
   "metadata": {},
   "source": [
    "### 3.5.2. map()\n",
    "\n",
    "```python\n",
    "# map 함수 표현식\n",
    "map(함수, 리스트)\n",
    "```\n",
    "\n",
    "이 함수는 **함수** 와 **리스트** 를 **인자** 로 받는다. \n",
    "\n",
    "그리고 **리스트로부터 원소를 하나씩 꺼내서 함수를 적용시킨 다음, 새로운 리스트에 담아준다.**\n"
   ]
  },
  {
   "cell_type": "code",
   "execution_count": 13,
   "metadata": {},
   "outputs": [
    {
     "data": {
      "text/plain": [
       "<map at 0x27c588f16a0>"
      ]
     },
     "execution_count": 13,
     "metadata": {},
     "output_type": "execute_result"
    }
   ],
   "source": [
    "map(lambda x: x ** 2, range(5))"
   ]
  },
  {
   "cell_type": "code",
   "execution_count": 12,
   "metadata": {},
   "outputs": [
    {
     "data": {
      "text/plain": [
       "[0, 1, 4, 9, 16]"
      ]
     },
     "execution_count": 12,
     "metadata": {},
     "output_type": "execute_result"
    }
   ],
   "source": [
    "list(map(lambda x: x ** 2, range(5)))  "
   ]
  },
  {
   "cell_type": "markdown",
   "metadata": {},
   "source": [
    "**map** 함수가 인자로 받은 함수는 `lambda x:x**2` 이다. 리스트로는 `range(5)` 를 받았다. `range(5)` 를 써주면 `[0, 1, 2, 3, 4]` 라는 리스트를 돌려준다.\n",
    "- `x**2`라는 것은 `x` 값을 제곱하라는 연산자이다.\n",
    "\n",
    "\n",
    "**map** 함수는 리스트에서 원소를 하나씩 꺼내서 함수를 적용시킨 결과를 새로운 리스트에 담아준다. 위의 예제는 `0`을 제곱하고, `1`을 제곱하고, `2`, `3`, `4`를 제곱한 것을 새로운 리스트에 넣어준다.\n",
    "\n",
    "##### 위의 예제를 람다가 아닌 보통의 함수로 구현한다면?"
   ]
  },
  {
   "cell_type": "markdown",
   "metadata": {},
   "source": [
    "### 3.5.3. reduce()\n",
    "\n",
    "```python\n",
    "# reduce 함수 표현식\n",
    "reduce(함수, 시퀀스)\n",
    "```\n",
    "\n",
    "**시퀀스(문자열, 리스트, 튜플)** 의 원소들을 누적하며 함수에 적용시킨다.\n",
    "\n",
    "- 튜플과 리스트의 가장 큰 차이는 **값을 변화시킬 수 있는가 여부** 이다. \n",
    "    - 즉 **리스트** 의 항목 값은 **변화가 가능** 하고 **튜플** 의 항목 값은 **변화가 불가능하다.** \n",
    "    - 따라서 프로그램이 실행되는 동안 그 값이 항상 변하지 않기를 바란다거나 값이 바뀔까 걱정하고 싶지 않다면 주저하지 말고 튜플을 사용해야 한다. \n",
    "    - 이와는 반대로 **수시로 그 값을 변화시켜야할 경우** 라면 **리스트** 를 사용해야 한다. \n",
    "    - 실제 프로그램에서는 값이 변경되는 형태의 변수가 훨씬 많기 때문에 평균적으로 튜플보다는 리스트를 더 많이 사용한다."
   ]
  },
  {
   "cell_type": "code",
   "execution_count": 14,
   "metadata": {},
   "outputs": [
    {
     "data": {
      "text/plain": [
       "10"
      ]
     },
     "execution_count": 14,
     "metadata": {},
     "output_type": "execute_result"
    }
   ],
   "source": [
    "# reduce 라이버르러리 불러오기\n",
    "from functools import reduce # 파이썬 3에서는 써야한다.\n",
    "\n",
    "reduce(lambda x,y: x+y, [0,1,2,3,4])"
   ]
  },
  {
   "cell_type": "markdown",
   "metadata": {},
   "source": [
    "위의 예제는 먼저 `0`과 `1`을 더하고, 그 결과에 `2`를 더하고, 거기다가 `3`을 더하고, 또 `4`를 더한 값을 돌려줍니다. 한 마디로 전부 다 더한다."
   ]
  },
  {
   "cell_type": "code",
   "execution_count": 15,
   "metadata": {},
   "outputs": [
    {
     "data": {
      "text/plain": [
       "'edcba'"
      ]
     },
     "execution_count": 15,
     "metadata": {},
     "output_type": "execute_result"
    }
   ],
   "source": [
    "reduce(lambda x,y : y+x, 'abcde')"
   ]
  },
  {
   "cell_type": "code",
   "execution_count": 25,
   "metadata": {},
   "outputs": [
    {
     "data": {
      "text/plain": [
       "'1+2+3+4'"
      ]
     },
     "execution_count": 25,
     "metadata": {},
     "output_type": "execute_result"
    }
   ],
   "source": [
    "reduce(lambda x,y : x+y, ['1','+','2','+','3','+','4'])"
   ]
  },
  {
   "cell_type": "code",
   "execution_count": 40,
   "metadata": {},
   "outputs": [
    {
     "data": {
      "text/plain": [
       "'abcde'"
      ]
     },
     "execution_count": 40,
     "metadata": {},
     "output_type": "execute_result"
    }
   ],
   "source": [
    "reduce(lambda x,y : x+y, ('a','b','c','d','e'))"
   ]
  },
  {
   "cell_type": "markdown",
   "metadata": {},
   "source": [
    "### 3.5.4. filter()\n",
    "\n",
    "```python\n",
    "# filter 함수 표현식\n",
    "filter(함수, 시퀀스)\n",
    "```\n",
    "\n",
    "리스트에 들어있는 원소들을 함수에 적용시켜서 결과가 **참** 인 값들로 새로운 리스트를 만들어준다. \n",
    "\n",
    "\n",
    "##### `0` 부터 `9` 까지의 리스트 중에서 `5` 보다 작은 것만 돌려주는 예제"
   ]
  },
  {
   "cell_type": "code",
   "execution_count": 30,
   "metadata": {},
   "outputs": [
    {
     "data": {
      "text/plain": [
       "<filter at 0x27c588f1ac0>"
      ]
     },
     "execution_count": 30,
     "metadata": {},
     "output_type": "execute_result"
    }
   ],
   "source": [
    "# 파이썬 2\n",
    "filter(lambda x : x<5, range(10))"
   ]
  },
  {
   "cell_type": "code",
   "execution_count": 31,
   "metadata": {},
   "outputs": [
    {
     "data": {
      "text/plain": [
       "[0, 1, 2, 3, 4]"
      ]
     },
     "execution_count": 31,
     "metadata": {},
     "output_type": "execute_result"
    }
   ],
   "source": [
    "# 파이썬 2 및 파이썬 3\n",
    "list(filter(lambda x:x<5, range(10)))"
   ]
  },
  {
   "cell_type": "markdown",
   "metadata": {},
   "source": [
    "`lambda x: x<5` 는 0부터 9까지의 리스트에서 숫자를 하나씩 꺼낸다. \n",
    "\n",
    "그 숫자를 x라 하고, x<5가 **참** 이면 살려준다. 그리고 살아남은 것들은 새로운 리스트에 넣어준다.\n",
    "\n",
    "<br>\n",
    "\n",
    "##### 홀수만 돌려주는 filter를 만들어 보도록 합시다.\n",
    "\n",
    "- 짝수는 2로 나누어 떨어지는 수\n",
    "    - 나머지가 0\n",
    "- 홀수는 2로 나누어 떨어지지 않는 수\n",
    "    - 나머지가 1\n",
    "\n",
    "또, 나머지를 구할 땐 %라는 연산자를 쓰면 된다. \n",
    "\n",
    "예를 들어서, 50을 8로 나누면 몫은 6이고 나머지는 2니까 50 % 8은 2가 된다."
   ]
  },
  {
   "cell_type": "code",
   "execution_count": 32,
   "metadata": {},
   "outputs": [
    {
     "data": {
      "text/plain": [
       "<filter at 0x27c589d1a90>"
      ]
     },
     "execution_count": 32,
     "metadata": {},
     "output_type": "execute_result"
    }
   ],
   "source": [
    "# 파이썬 2\n",
    "filter(lambda x: x%2, range(10))"
   ]
  },
  {
   "cell_type": "code",
   "execution_count": 33,
   "metadata": {},
   "outputs": [
    {
     "data": {
      "text/plain": [
       "[1, 3, 5, 7, 9]"
      ]
     },
     "execution_count": 33,
     "metadata": {},
     "output_type": "execute_result"
    }
   ],
   "source": [
    "# 파이썬 2 및 파이썬3\n",
    "list(filter(lambda x:x%2, range(10)))"
   ]
  },
  {
   "cell_type": "markdown",
   "metadata": {},
   "source": [
    "0을 2로 나눈 나머지는 0이니까 람다 함수의 결과값은 0이고, 0은 '거짓'이니까 버려진다.\n",
    "\n",
    "1을 2로 나눈 나머지는 1이니까 람다 함수의 결과값은 1이고, 1은 '참'이니까 통과하지요."
   ]
  }
 ],
 "metadata": {
  "kernelspec": {
   "display_name": "Python 3",
   "language": "python",
   "name": "python3"
  },
  "language_info": {
   "codemirror_mode": {
    "name": "ipython",
    "version": 3
   },
   "file_extension": ".py",
   "mimetype": "text/x-python",
   "name": "python",
   "nbconvert_exporter": "python",
   "pygments_lexer": "ipython3",
   "version": "3.8.3"
  }
 },
 "nbformat": 4,
 "nbformat_minor": 4
}

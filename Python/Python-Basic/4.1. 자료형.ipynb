{
 "cells": [
  {
   "cell_type": "markdown",
   "metadata": {},
   "source": [
    "## 4.1 자료형\n",
    "---\n",
    "\n",
    "컴퓨터에서는 이진수가 중요하다. 왜냐하면 컴퓨터 내부에서는 모든 정보를 **이진수** 로 처리하기 때문이다. \n",
    "\n",
    "_예를 들어서 65라는 숫자를 컴퓨터 내부에서는 이진수 01000001로 처리한다._\n",
    "\n",
    "- 65 + 30 이라고 명령을 내리면 컴퓨터는 그것들을 모두 이진수로 바꿔서 계산을 한 다음에 그 결과를 다시 우리가 쓰는 십진수로 바꿔준다. \n",
    "\n",
    "- 컴퓨터는 숫자 뿐만 아니라 문자라든지, 제 아무리 복잡한 정보도 모두 2진수로 처리한다.\n",
    "\n",
    "컴퓨터에서 영어를 사용하기 위해서는 알파벳 한 자 한 자마다 숫자로 번호를 매겨서 처리를 한다. 알파벳에 **번호** 를 붙이는 규칙 중에서 널리 쓰이는 것으로 **ASCII(아스키)** 라는 규약이 있습니다. 아스키에서는 알파벳 `A`를 숫자 `65`로 표현하는데요, 어차피 숫자 `65`는 다시 이진수로 바꿔서 처리한다.\n",
    "\n",
    "그렇다면 여기서 이상한 점이 생깁니다. 이진수 01000001이 있는데 컴퓨터는 이것이 숫자 65인지, 아니면 문자 A인지 어떻게 알 수 있을까?\n",
    "\n",
    "숫자인지 문자인지 표시를 해주면 된다. \n",
    "\n",
    "그렇게 표시를 해주는 것이 바로 **자료형** 이라고 할 수 있다.\n",
    "\n",
    "`type()` 함수를 사용하면 자료형을 쉽게 확인할 수 있다.\n",
    "\n",
    "```python\n",
    "type(6) # 정수\n",
    "# int\n",
    "\n",
    "type('A') # 문자열\n",
    "# str\n",
    "```\n",
    "\n",
    "##### 파이썬의 자료형은 크게 **숫자(numbers)**, **시퀀스(sequence)**, **매핑(mapping)** 등으로 나눌 수 있다.\n",
    "\n",
    "\n",
    "#### 1) 숫자\n",
    "\n",
    "\n",
    "숫자를 나타내는 자료형으로는 정수(`int`), 부동소수점수(`float`), 복소수(`complex`)가 있다.\n",
    "\n",
    "```python\n",
    "type(100000000)              # 정수\n",
    "# int\n",
    "\n",
    "type(3+4j)                   # 복소수\n",
    "# complex\n",
    "\n",
    "```\n",
    "`int`는 **정수(integer)** 를 나타냅니다.\n",
    "\n",
    "\n",
    "`float`는 원래 **부동소수점수(floating-point number)** 를 가리킨다.\n",
    "- 단순히 소수점 이하를 표현할 수 있는 수라고 생각하도 된다.\n",
    "\n",
    "`complex`는 **복소수**를 나타낸다.\n",
    "\n",
    "\n",
    "#### 2) 시퀀스\n",
    "\n",
    "문자열(`str`), 리스트(`list`), 튜플(`tuple`), 사용자 정의 클래스가 시퀀스에 속한다.\n",
    "\n",
    "```python\n",
    "type(\"Love your Enemies, for they tell you your Faults.\") # str\n",
    "\n",
    "type(['love', 'enemy', 'fault']) # list\n",
    "\n",
    "type(('love', 'enemy', 'fault')) # tuple\n",
    "\n",
    "```\n",
    "\n",
    "`for` 문에서 사용할 수 있는 것들이 바로 **시퀀스**이다.\n",
    "\n",
    "`문자열`은 **시퀀스** 에 속한다. \n",
    "- 여러 개의 문자를 한 줄로 세워둔 형태\n",
    "\n",
    "`튜플`과 `사용자 정의` 클래스에 대해서는 뒤에서 설명\n"
   ]
  },
  {
   "cell_type": "markdown",
   "metadata": {},
   "source": [
    "##### 문자열 슬라이싱"
   ]
  },
  {
   "cell_type": "code",
   "execution_count": 9,
   "metadata": {},
   "outputs": [
    {
     "data": {
      "text/plain": [
       "'Py'"
      ]
     },
     "execution_count": 9,
     "metadata": {},
     "output_type": "execute_result"
    }
   ],
   "source": [
    "# 문자열 인덱스를 이용해 문자열의 일부를 복사할 수 있다.\n",
    "p = 'Python'\n",
    "p[0:2]"
   ]
  },
  {
   "cell_type": "code",
   "execution_count": 10,
   "metadata": {},
   "outputs": [
    {
     "data": {
      "text/plain": [
       "'Py'"
      ]
     },
     "execution_count": 10,
     "metadata": {},
     "output_type": "execute_result"
    }
   ],
   "source": [
    "# 시작 인덱스가 `0`일 때는 아래처럼 콤마 앞의 0을 생략할 수도 있다.\n",
    "p[:2]"
   ]
  },
  {
   "cell_type": "code",
   "execution_count": 11,
   "metadata": {},
   "outputs": [
    {
     "data": {
      "text/plain": [
       "'on'"
      ]
     },
     "execution_count": 11,
     "metadata": {},
     "output_type": "execute_result"
    }
   ],
   "source": [
    "# 음수 인덱스를 사용해 문자열의 뒷부분을 복사할 수도 있다.\n",
    "p[-2:]"
   ]
  },
  {
   "cell_type": "code",
   "execution_count": 12,
   "metadata": {},
   "outputs": [
    {
     "data": {
      "text/plain": [
       "'Python'"
      ]
     },
     "execution_count": 12,
     "metadata": {},
     "output_type": "execute_result"
    }
   ],
   "source": [
    "# 콤마의 앞뒤 숫자를 모두 생략하면 문자열 전부를 복사할 수 있다.\n",
    "p[:]"
   ]
  },
  {
   "cell_type": "code",
   "execution_count": 13,
   "metadata": {},
   "outputs": [
    {
     "data": {
      "text/plain": [
       "'nohtyP'"
      ]
     },
     "execution_count": 13,
     "metadata": {},
     "output_type": "execute_result"
    }
   ],
   "source": [
    "# 역순으로 복사하는 것도 가능하다.\n",
    "p[::-1]"
   ]
  },
  {
   "cell_type": "markdown",
   "metadata": {},
   "source": [
    "#### 3) 매핑\n",
    "\n",
    "딕셔너리(`dict`)는 **키(key)** 와 **값(value)** 의 짝으로 이뤄진다. 이것을 **매핑** 이라고 한다.\n",
    "\n",
    "```python\n",
    "type({'one' : 1, 'two' : 2, 'three' : 3})\n",
    "```"
   ]
  },
  {
   "cell_type": "markdown",
   "metadata": {},
   "source": [
    "#### 4) 불\n",
    "\n",
    "참, 거짓을 표현하는 불(`bool`)도 있다.\n",
    "\n",
    "```python\n",
    "type(False) # bool\n",
    "\n",
    "type(3>=1) # bool\n",
    "\n",
    "type(True=='True') # bool\n",
    "```"
   ]
  },
  {
   "cell_type": "markdown",
   "metadata": {},
   "source": [
    "#### 5) 세트\n",
    "\n",
    "집합을 표현하는 세트(`set`)도 있다.\n",
    "\n",
    "```python\n",
    "fruits = {'apple', 'banana','orange'}\n",
    "```\n",
    "\n",
    "세트는 원소의 **순서가 유지되지 않고 중복 원소를 갖지 않는** ‘집합’으로서의 특징이 있으며, **집합 연산을 사용할 수 있다.**"
   ]
  },
  {
   "cell_type": "code",
   "execution_count": null,
   "metadata": {},
   "outputs": [],
   "source": []
  }
 ],
 "metadata": {
  "kernelspec": {
   "display_name": "Python 3",
   "language": "python",
   "name": "python3"
  },
  "language_info": {
   "codemirror_mode": {
    "name": "ipython",
    "version": 3
   },
   "file_extension": ".py",
   "mimetype": "text/x-python",
   "name": "python",
   "nbconvert_exporter": "python",
   "pygments_lexer": "ipython3",
   "version": "3.8.3"
  }
 },
 "nbformat": 4,
 "nbformat_minor": 4
}

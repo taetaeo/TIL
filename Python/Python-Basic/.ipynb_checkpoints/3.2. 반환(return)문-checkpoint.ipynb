{
 "cells": [
  {
   "cell_type": "markdown",
   "metadata": {},
   "source": [
    "## 3.2 반환(return)문\n",
    "---\n",
    "\n",
    "**함수**에 **값** 을 넣으면 함수는 계산된 값을 돌려준다. \n",
    "\n",
    "\n",
    "##### EX) 함수 예시\n",
    "```python\n",
    "def f1(x):\n",
    "    a = 3\n",
    "    b = 5\n",
    "    y = a * x + b\n",
    "    return y # y 값을 반환한다.\n",
    "\n",
    "c = f1(10)\n",
    "print(c)  # 35\n",
    "\n",
    "```"
   ]
  },
  {
   "cell_type": "markdown",
   "metadata": {},
   "source": [
    "함수 `f1()` 는 값을 돌려주기 위해 `return`이라는 것이 쓰여있다. \n",
    "이렇게 만들어진 함수에 `10` 이라는 인자를 넣어주면 함수는 `35`라는 값을 돌려준다.\n",
    "\n",
    "따라서, 그 값을 다시 `c` 라는 변수에 넣을 수도 있다."
   ]
  },
  {
   "cell_type": "markdown",
   "metadata": {},
   "source": [
    "_만약, 함수를 정의할 때 `return y` 대신에 `print(y)` 라고 썼다면?_\n",
    "\n",
    "```python\n",
    "def f2(x):\n",
    "    a = 3\n",
    "    b = 5\n",
    "    y = a * x + b\n",
    "    print(y) # y 값을 출력한다\n",
    "    \n",
    "d = f2(10)  # d = ?\n",
    "# 35\n",
    "\n",
    "print(d)\n",
    "# None\n",
    "```"
   ]
  },
  {
   "cell_type": "markdown",
   "metadata": {},
   "source": [
    "`d = f2(10)`이라고 하면 `f2()` 함수가 실행되어 `35`가 화면에 나타나지만 `d`에게 값을 반환하지 않는다.\n",
    "\n",
    "그래서 `d` 를 프린트해보면 아무 값이 없다는 뜻으로 `None`이 출력이 된다.\n"
   ]
  },
  {
   "cell_type": "markdown",
   "metadata": {},
   "source": [
    "##### EX1) 삼각형의 넓이를 구하는 함수를 만들어보기\n",
    "\n",
    "\n",
    "함수의 인자로는 삼각형의 밑변과 높이가 주어지고, 반환(return) 값은 삼각형의 넓이가 된다. \n",
    "\n"
   ]
  },
  {
   "cell_type": "code",
   "execution_count": 13,
   "metadata": {},
   "outputs": [
    {
     "data": {
      "text/plain": [
       "25"
      ]
     },
     "execution_count": 13,
     "metadata": {},
     "output_type": "execute_result"
    }
   ],
   "source": [
    "# 삼각형의 넓이를 구하는 함수\n",
    "\n",
    "def triangle(a,h):\n",
    "    return a * h // 2\n",
    "\n",
    "triangle(5,10)"
   ]
  },
  {
   "cell_type": "markdown",
   "metadata": {},
   "source": [
    "## 참과 거짓\n",
    "\n",
    "\n",
    "1 더하기 1은 2 이다. `참`, `거`'으로 대답해보세요.\n",
    "\n",
    "`참`이라고 대답하셨나요?\n",
    "\n",
    "그럼 파이썬은 이 질문에 어떻게 대답할까요?"
   ]
  },
  {
   "cell_type": "code",
   "execution_count": 14,
   "metadata": {},
   "outputs": [
    {
     "data": {
      "text/plain": [
       "True"
      ]
     },
     "execution_count": 14,
     "metadata": {},
     "output_type": "execute_result"
    }
   ],
   "source": [
    "1 + 1 == 2"
   ]
  },
  {
   "cell_type": "code",
   "execution_count": 15,
   "metadata": {},
   "outputs": [
    {
     "data": {
      "text/plain": [
       "False"
      ]
     },
     "execution_count": 15,
     "metadata": {},
     "output_type": "execute_result"
    }
   ],
   "source": [
    "1 + 1 == 3"
   ]
  },
  {
   "cell_type": "markdown",
   "metadata": {},
   "source": [
    "##### EX2) 1 + 1 이 2가 맞으면 'YES' 라고 대답하고 그렇지 않으면 'NO'라고 대답하는 if 문을 만들어보시오."
   ]
  },
  {
   "cell_type": "code",
   "execution_count": 16,
   "metadata": {},
   "outputs": [
    {
     "name": "stdout",
     "output_type": "stream",
     "text": [
      "yes\n"
     ]
    }
   ],
   "source": [
    "if 1+1 == 2:\n",
    "    print('yes')\n",
    "else:\n",
    "    print('no')"
   ]
  },
  {
   "cell_type": "markdown",
   "metadata": {},
   "source": [
    "`1 + 1 == 2`라는 식이 `True`(참)이면 `yes`를, `False`(거짓)이면 `no`를 프린트했다."
   ]
  },
  {
   "cell_type": "code",
   "execution_count": 20,
   "metadata": {},
   "outputs": [
    {
     "name": "stdout",
     "output_type": "stream",
     "text": [
      "1+2 = 5\n"
     ]
    },
    {
     "data": {
      "text/plain": [
       "False"
      ]
     },
     "execution_count": 20,
     "metadata": {},
     "output_type": "execute_result"
    }
   ],
   "source": [
    "def quiz():\n",
    "    ans = input('1+2 = ')\n",
    "    return 1 + 2 == int(ans)\n",
    "quiz()"
   ]
  },
  {
   "cell_type": "markdown",
   "metadata": {},
   "source": [
    "#### 참고\n",
    "`input()`이라는 함수는 사용자로부터 문자열 입력을 받는데 쓰인다., `int()` 함수는 문자열을 정수로 바꿔줍니다. \n",
    "\n",
    "---\n",
    "\n",
    "예제에서는 `input()` 함수가 1 + 2 =이라는 문자열을 출력한 다음 사용자로부터 문자열을 입력 받아 그 값을 `ans`라는 변수에 넣어줬습니다.\n",
    "\n",
    "셋째 줄에서는 `1 + 2`의 값과 `int(ans)`의 값이 같은지를 나타내는 `True`나 `False`로 반환하겠죠?\n",
    "\n",
    "답을 맞히면 `True`를 돌려주고, 틀리면 `False`를 돌려준다. \n",
    "\n",
    "위에서 만든 퀴즈를 다음과 같이 풀어볼 수 있습니다."
   ]
  },
  {
   "cell_type": "markdown",
   "metadata": {},
   "source": [
    "### 3.2.1. 연습 문제 : 숫자 읽기 함수(1~10)\n",
    "---\n",
    "\n",
    "#### 문제\n",
    "매개변수로 받은 정수를 한국어로 표기한 문자열을 반환하는 함수 `korean_number()`를 정의하세요. \n",
    "\n",
    "단, 매개변수는 1 이상 10 이하의 정수라고 가정합니다.\n",
    "\n",
    "\n",
    "##### EX)\n",
    "\n",
    "```python\n",
    "korean_number(1) # '일'\n",
    "\n",
    "korean_number(3) # '삼'\n",
    "\n",
    "```"
   ]
  },
  {
   "cell_type": "code",
   "execution_count": 22,
   "metadata": {},
   "outputs": [],
   "source": [
    "def korean_number(num):\n",
    "    if num == 1:\n",
    "        return '일'\n",
    "    elif num == 2:\n",
    "        return '이'\n",
    "    elif num == 3:\n",
    "        return '삼'\n",
    "    elif num == 4:\n",
    "        return '사'\n",
    "    elif num == 5:\n",
    "        return '오'\n",
    "    elif num == 6:\n",
    "        return '육'\n",
    "    elif num == 7:\n",
    "        return '칠'\n",
    "    elif num == 8:\n",
    "        return '팔'\n",
    "    elif num == 9:\n",
    "        return '구'\n",
    "    elif num == 10:\n",
    "        return '십'"
   ]
  },
  {
   "cell_type": "code",
   "execution_count": 23,
   "metadata": {},
   "outputs": [
    {
     "data": {
      "text/plain": [
       "'일'"
      ]
     },
     "execution_count": 23,
     "metadata": {},
     "output_type": "execute_result"
    }
   ],
   "source": [
    "korean_number(1)"
   ]
  },
  {
   "cell_type": "markdown",
   "metadata": {},
   "source": [
    "### 3.2.2 연습 문제: 함수 정의하기\n",
    "---\n",
    "\n",
    "### 문제\n",
    "---\n",
    "\n",
    "#### 문제 1\n",
    "\n",
    "다음 `triple()` 함수를 완성하시오.\n",
    "```python\n",
    "def triple(x):\n",
    "    \n",
    "triple(2) # 6\n",
    "\n",
    "triple('x') # 'xxx'\n",
    "```\n",
    "\n",
    "#### 문제 2\n",
    "\n",
    "오늘의 날짜 객체를 구하는 코드는 다음과 같습니다. (코드를 이해하지 못해도 이 문제를 풀 수 있습니다.)\n",
    "\n",
    "```python\n",
    "from datetime import datetime\n",
    "today = datetime.today()\n",
    "today\n",
    "# datetime.datetime(2021, 11, 5, 0, 47, 15, 356673)\n",
    "```\n",
    "\n",
    "위 코드의 `today`에서 연도를 구하는 방법은?\n",
    "```python\n",
    "today.year # 2021\n",
    "today.month # 11\n",
    "today.day # 5\n",
    "```\n",
    "\n",
    "태어난 해를 네 자리 숫자로 입력하면 한국 나이를 반환하는 함수 `korean_age()`를 작성하시오."
   ]
  },
  {
   "cell_type": "code",
   "execution_count": 82,
   "metadata": {},
   "outputs": [
    {
     "name": "stdout",
     "output_type": "stream",
     "text": [
      "6\n",
      "xxx\n"
     ]
    }
   ],
   "source": [
    "# 문제 1\n",
    "\n",
    "def triple(x):\n",
    "    return x * 3\n",
    "    \n",
    "print(triple(2))\n",
    "print(triple('x'))"
   ]
  },
  {
   "cell_type": "code",
   "execution_count": 40,
   "metadata": {},
   "outputs": [
    {
     "data": {
      "text/plain": [
       "11"
      ]
     },
     "execution_count": 40,
     "metadata": {},
     "output_type": "execute_result"
    }
   ],
   "source": [
    "from datetime import datetime\n",
    "today = datetime.today()\n",
    "today.year\n",
    "\n",
    "datetime.today().month"
   ]
  },
  {
   "cell_type": "code",
   "execution_count": 81,
   "metadata": {},
   "outputs": [
    {
     "name": "stdout",
     "output_type": "stream",
     "text": [
      "1992\n"
     ]
    },
    {
     "data": {
      "text/plain": [
       "30"
      ]
     },
     "execution_count": 81,
     "metadata": {},
     "output_type": "execute_result"
    }
   ],
   "source": [
    "# 문제 2\n",
    "birth_year = int(input())\n",
    "\n",
    "def korean_age(birth_year):\n",
    "    from datetime import datetime\n",
    "    today = datetime.today()\n",
    "    return today.year - birth_year + 1\n",
    "\n",
    "korean_age(birth_year)"
   ]
  },
  {
   "cell_type": "code",
   "execution_count": 78,
   "metadata": {},
   "outputs": [
    {
     "name": "stdout",
     "output_type": "stream",
     "text": [
      "triple(2): 6\n",
      "triple('x') xxx\n",
      "korean_age(2000): 22\n"
     ]
    }
   ],
   "source": [
    "def korean_age(birth_year):\n",
    "    from datetime import datetime\n",
    "    today = datetime.today()\n",
    "    return today.year - birth_year + 1\n",
    "\n",
    "\n",
    "if __name__ == '__main__':\n",
    "    print(\"triple(2):\", triple(2))\n",
    "    print(\"triple('x')\", triple('x'))\n",
    "    print(\"korean_age(2000):\", korean_age(2000))"
   ]
  },
  {
   "cell_type": "markdown",
   "metadata": {},
   "source": [
    "### 3.2.3 연습 문제: 단리 이자 계산\n",
    "---\n",
    "\n",
    "새해를 맞아 저축을 하기로 하고 연이율 3.875%(단리)인 상품에 10,000,000원을 저축했습니다. 5년 동안 넣어두면 이자가 얼마 붙는지 계산해보겠습니다.\n",
    "\n",
    "첫 해에 원금 10,000,000원에 대한 이자 10,000,000 * 0.03875 = 387500원이 붙습니다.\n",
    "둘째 해에 원금 10,000,000원에 대한 이자 387500원이 붙습니다.\n",
    "마찬가지로 셋째, 넷째, 다섯째 해에도 해마다 같은 금액의 이자가 붙습니다.\n",
    "\n",
    "###### 만기가 되어 받을 수 있는 이자는 다음과 같습니다.\n",
    "\n",
    "```python\n",
    "10000000 * 0.03875 * 5  \n",
    "# 1937500.0\n",
    "```\n",
    "\n",
    "##### 원금과 이자를 합한 총액, 즉 원리금은 다음과 같습니다.\n",
    "\n",
    "```python\n",
    "10000000 + 10000000 * 0.03875 * 5\n",
    "# 11937500.0\n",
    "```\n",
    "\n",
    "##### 원금(Principal), 이율(rate), 기간(time)이 주어졌을 때, 이자(Interest)를 구하는 공식  : $I$ = $Prt$\n",
    " \n",
    " \n",
    "##### 원리금(Amount)을 구하는 공식 : $A$ = $P(1+rt)$"
   ]
  },
  {
   "cell_type": "markdown",
   "metadata": {},
   "source": []
  },
  {
   "cell_type": "markdown",
   "metadata": {},
   "source": [
    "### 문제\n",
    "---\n",
    "\n",
    "#### 문제 1\n",
    "\n",
    "원금(`p`), 단리 이율(`r`), 기간(`t`)이 주어졌을 때 **이자**를 구하는 함수 `simple_interest()`를 작성하시오\n",
    "\n",
    "#### 예1\n",
    "```python\n",
    "simple_interest(10000000, 0.03875, 5)\n",
    "# 1937500.0\n",
    "```\n",
    "\n",
    "#### 예2\n",
    "```python\n",
    "simple_interest(1100000, 0.05, 5/12)\n",
    "# 22916.666666666668\n",
    "```"
   ]
  },
  {
   "cell_type": "code",
   "execution_count": 85,
   "metadata": {},
   "outputs": [
    {
     "name": "stdout",
     "output_type": "stream",
     "text": [
      "1937500.0\n",
      "22916.666666666668\n"
     ]
    }
   ],
   "source": [
    "def simple_interest(p,r,t):\n",
    "    return p * r * t\n",
    "\n",
    "print(simple_interest(10000000, 0.03875, 5))\n",
    "print(simple_interest(1100000, 0.05, 5/12))"
   ]
  },
  {
   "cell_type": "markdown",
   "metadata": {},
   "source": [
    "#### 문제 2\n",
    "\n",
    "원금(`p`), 단리 이율(`r`), 기간(`t`)이 주어졌을 때 **원리금**을 계산하는 함수 `simple_interest_amount()`를 작성하세요.\n",
    "\n",
    "#### 예1\n",
    "```python\n",
    "simple_interest_amount(10000000, 0.03875, 5)\n",
    "# 11937500.0\n",
    "```\n",
    "\n",
    "#### 예2\n",
    "```python\n",
    "simple_interest_amount(1100000, 0.05, 5/12)\n",
    "# 1122916.6666666665\n",
    "```"
   ]
  },
  {
   "cell_type": "code",
   "execution_count": 87,
   "metadata": {},
   "outputs": [
    {
     "name": "stdout",
     "output_type": "stream",
     "text": [
      "11937500.0\n",
      "1122916.6666666665\n"
     ]
    }
   ],
   "source": [
    "def simple_interest_amount(p,r,t):\n",
    "    return p * (1 + r * t)\n",
    "\n",
    "print(simple_interest_amount(10000000, 0.03875, 5))\n",
    "print(simple_interest_amount(1100000, 0.05, 5/12))"
   ]
  },
  {
   "cell_type": "code",
   "execution_count": 88,
   "metadata": {},
   "outputs": [
    {
     "name": "stdout",
     "output_type": "stream",
     "text": [
      "Quiz 1\n",
      "ex 1: 1937500.0\n",
      "ex 2: 22916.666666666668\n",
      "\n",
      "Quiz 2\n",
      "ex 1: 11937500.0\n",
      "ex 2: 1122916.6666666665\n"
     ]
    }
   ],
   "source": [
    "def simple_interest(p, r, t):\n",
    "    return p * r * t\n",
    "    \n",
    "def simple_interest_amount(p, r, t):\n",
    "    return p * (1 + r * t)\n",
    "\n",
    "if __name__ == '__main__':\n",
    "    print('Quiz 1')\n",
    "    print('ex 1:', simple_interest(10000000, 0.03875, 5))\n",
    "    print('ex 2:', simple_interest(1100000, 0.05, 5/12))\n",
    "\n",
    "    print('\\nQuiz 2')\n",
    "    print('ex 1:', simple_interest_amount(10000000, 0.03875, 5))\n",
    "    print('ex 2:', simple_interest_amount(1100000, 0.05, 5/12))"
   ]
  },
  {
   "cell_type": "code",
   "execution_count": null,
   "metadata": {},
   "outputs": [],
   "source": []
  }
 ],
 "metadata": {
  "kernelspec": {
   "display_name": "Python 3",
   "language": "python",
   "name": "python3"
  },
  "language_info": {
   "codemirror_mode": {
    "name": "ipython",
    "version": 3
   },
   "file_extension": ".py",
   "mimetype": "text/x-python",
   "name": "python",
   "nbconvert_exporter": "python",
   "pygments_lexer": "ipython3",
   "version": "3.8.3"
  }
 },
 "nbformat": 4,
 "nbformat_minor": 4
}

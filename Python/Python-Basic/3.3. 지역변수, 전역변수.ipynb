{
 "cells": [
  {
   "cell_type": "markdown",
   "metadata": {},
   "source": [
    "## 3.3 지역변수, 전역변수\n",
    "---"
   ]
  },
  {
   "cell_type": "code",
   "execution_count": 12,
   "metadata": {},
   "outputs": [
    {
     "data": {
      "text/plain": [
       "'pig dad'"
      ]
     },
     "execution_count": 12,
     "metadata": {},
     "output_type": "execute_result"
    }
   ],
   "source": [
    "jjang = 'pig dad'\n",
    "jjang"
   ]
  },
  {
   "cell_type": "code",
   "execution_count": 14,
   "metadata": {},
   "outputs": [
    {
     "name": "stdout",
     "output_type": "stream",
     "text": [
      "jjang =  07\n"
     ]
    }
   ],
   "source": [
    "def ban():\n",
    "    jjang = '07'\n",
    "    print('jjang = ', jjang)\n",
    "    \n",
    "ban()"
   ]
  },
  {
   "cell_type": "markdown",
   "metadata": {},
   "source": [
    "`ban()` 함수 안에서 `jjang = '07'` 이라고 하면 `jjang`이란 변수를 새로 만든다.\n",
    "\n",
    "기존의 `jjang` 에는 영향을 미치지 않는다. 그리고, `ban`함수가 끝날 땐 그 함수 내에서 만들었던 변수들은 없어진다. \n",
    "\n",
    "\n",
    "이와 같이 함수 안에서 만들어진 변수를 **지역변수** 라고 하고, 함수 밖에서 만들어진 변수를 **전역변수** 라고 한다. \n",
    "\n",
    "1. 지역변수는 함수가 호출되면 만들어져서, 함수의 실행이 끝날 때 함께 없어진다.\n",
    "2. 전역변수는 함수와는 관계없이 항상 꿋꿋이 있다. 그래서 **global** 이라는 말로 표현한다.\n"
   ]
  },
  {
   "cell_type": "code",
   "execution_count": 18,
   "metadata": {},
   "outputs": [
    {
     "name": "stdout",
     "output_type": "stream",
     "text": [
      "d 값은  10 입니다.\n"
     ]
    },
    {
     "ename": "NameError",
     "evalue": "name 'd' is not defined",
     "output_type": "error",
     "traceback": [
      "\u001b[1;31m---------------------------------------------------------------------------\u001b[0m",
      "\u001b[1;31mNameError\u001b[0m                                 Traceback (most recent call last)",
      "\u001b[1;32m<ipython-input-18-29f6e02e737d>\u001b[0m in \u001b[0;36m<module>\u001b[1;34m\u001b[0m\n\u001b[0;32m      5\u001b[0m \u001b[0md_is_10\u001b[0m\u001b[1;33m(\u001b[0m\u001b[1;33m)\u001b[0m\u001b[1;33m\u001b[0m\u001b[1;33m\u001b[0m\u001b[0m\n\u001b[0;32m      6\u001b[0m \u001b[1;33m\u001b[0m\u001b[0m\n\u001b[1;32m----> 7\u001b[1;33m \u001b[0mprint\u001b[0m\u001b[1;33m(\u001b[0m\u001b[0md\u001b[0m\u001b[1;33m)\u001b[0m\u001b[1;33m\u001b[0m\u001b[1;33m\u001b[0m\u001b[0m\n\u001b[0m",
      "\u001b[1;31mNameError\u001b[0m: name 'd' is not defined"
     ]
    }
   ],
   "source": [
    "def d_is_10():\n",
    "    d = 10\n",
    "    print('d 값은 ', d, '입니다.')\n",
    "    \n",
    "d_is_10()\n",
    "\n",
    "\n",
    "# d 값 출력하기\n",
    "print(d)"
   ]
  },
  {
   "cell_type": "markdown",
   "metadata": {},
   "source": [
    "d를 불러와도 `d라는 이름이 없다`는 에러 메시지만 뜬다. `d_is_10()` 함수가 실행되는 동안은 d 가 있었는데, 함수의 실행이 끝난 다음에 함께 사라져버린다.\n",
    "\n",
    "반대로, **전역변수** 는 함수 안에서도 얼마든지 사용할 수 있다."
   ]
  },
  {
   "cell_type": "code",
   "execution_count": 19,
   "metadata": {},
   "outputs": [
    {
     "name": "stdout",
     "output_type": "stream",
     "text": [
      "10\n"
     ]
    }
   ],
   "source": [
    "x = 10\n",
    "\n",
    "def printx():\n",
    "    print(x)\n",
    "    \n",
    "    \n",
    "printx()"
   ]
  },
  {
   "cell_type": "markdown",
   "metadata": {},
   "source": [
    "**지역변수** 대신 **전역변수** 만 쓰는 것이 편한 것은 아니다. **전역변수** 는 프로그램이 복잡해질수록 골치거리가 된다.\n",
    "\n",
    "다른 엉뚱한 함수 때문에 변수의 값이 바뀌어버리는 수가 종종 있다.그래서 필요에 따라 **지역변수** 와 **전역변수** 를 골라 쓰는 것이 좋다.\n",
    "\n",
    "그리고, 함수 안에서 **전역변수** 를 만드는 방법도 있다. 어떤 변수를 **전역변수(global)** 로 사용하겠다라고 명시해주는 것이 좋다."
   ]
  },
  {
   "cell_type": "code",
   "execution_count": 21,
   "metadata": {},
   "outputs": [
    {
     "name": "stdout",
     "output_type": "stream",
     "text": [
      "e 값은  10 입니다.\n"
     ]
    },
    {
     "data": {
      "text/plain": [
       "10"
      ]
     },
     "execution_count": 21,
     "metadata": {},
     "output_type": "execute_result"
    }
   ],
   "source": [
    "def e_is_10():\n",
    "    global e  # 전역변수\n",
    "    e = 10\n",
    "    print('e 값은 ', e, '입니다.')\n",
    "\n",
    "    \n",
    "e_is_10()\n",
    "\n",
    "e"
   ]
  },
  {
   "cell_type": "markdown",
   "metadata": {},
   "source": [
    "여기서는 `e_is_10()` 함수가 실행되면서 `e`라는 **전역변수** 가 만들어지고, 이 변수는 함수의 실행이 끝난 다음에도 없어지지 않는다."
   ]
  }
 ],
 "metadata": {
  "kernelspec": {
   "display_name": "Python 3",
   "language": "python",
   "name": "python3"
  },
  "language_info": {
   "codemirror_mode": {
    "name": "ipython",
    "version": 3
   },
   "file_extension": ".py",
   "mimetype": "text/x-python",
   "name": "python",
   "nbconvert_exporter": "python",
   "pygments_lexer": "ipython3",
   "version": "3.8.3"
  }
 },
 "nbformat": 4,
 "nbformat_minor": 4
}
